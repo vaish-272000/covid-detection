{
  "nbformat": 4,
  "nbformat_minor": 0,
  "metadata": {
    "colab": {
      "name": "completed_dataset_preparing.ipynb",
      "provenance": [],
      "collapsed_sections": []
    },
    "kernelspec": {
      "display_name": "Python 3",
      "name": "python3"
    }
  },
  "cells": [
    {
      "cell_type": "code",
      "metadata": {
        "colab": {
          "base_uri": "https://localhost:8080/"
        },
        "id": "-xivVKx_ifTV",
        "outputId": "387767c0-c2cb-482a-ce14-5133196e1855"
      },
      "source": [
        "!pip install keras --upgrade\n",
        "!pip install zipfile36\n",
        "!pip install pydicom"
      ],
      "execution_count": 12,
      "outputs": [
        {
          "output_type": "stream",
          "name": "stdout",
          "text": [
            "Requirement already satisfied: keras in /usr/local/lib/python3.7/dist-packages (2.8.0)\n",
            "Requirement already satisfied: zipfile36 in /usr/local/lib/python3.7/dist-packages (0.1.3)\n",
            "Requirement already satisfied: pydicom in /usr/local/lib/python3.7/dist-packages (2.2.2)\n"
          ]
        }
      ]
    },
    {
      "cell_type": "code",
      "metadata": {
        "id": "Y6p_R7p6hxyG"
      },
      "source": [
        "import numpy as np\n",
        "import pandas as pd\n",
        "import os\n",
        "import random \n",
        "import shutil\n",
        "import pydicom as dicom\n",
        "import cv2\n",
        "import csv\n",
        "import zipfile\n",
        "import tensorflow as tf\n",
        "from tensorflow import keras\n",
        "from tensorflow.keras import optimizers\n",
        "from keras.models import Sequential,Model\n",
        "from keras.layers import Dropout, Flatten, Dense,Input\n",
        "from keras.applications.resnet_v2 import ResNet50V2\n",
        "from keras.applications.xception import Xception\n",
        "from keras.callbacks import ModelCheckpoint\n",
        "from keras.applications.imagenet_utils import preprocess_input\n",
        "from keras import backend as K\n",
        "from keras.preprocessing.image import ImageDataGenerator\n",
        "from keras.initializers import RandomNormal"
      ],
      "execution_count": 13,
      "outputs": []
    },
    {
      "cell_type": "code",
      "metadata": {
        "colab": {
          "base_uri": "https://localhost:8080/"
        },
        "id": "MXn_CVZXQXYw",
        "outputId": "60e6eb09-e011-47df-bc39-c5037640b597"
      },
      "source": [
        "!git clone https://github.com/ieee8023/covid-chestxray-dataset"
      ],
      "execution_count": 14,
      "outputs": [
        {
          "output_type": "stream",
          "name": "stdout",
          "text": [
            "fatal: destination path 'covid-chestxray-dataset' already exists and is not an empty directory.\n"
          ]
        }
      ]
    },
    {
      "cell_type": "code",
      "metadata": {
        "colab": {
          "base_uri": "https://localhost:8080/"
        },
        "id": "iYSmETQZsUY3",
        "outputId": "8ed2725a-f348-4c4b-8bb1-6c2e7ba619d8"
      },
      "source": [
        "from google.colab import drive\n",
        "drive.mount('/content/drive')"
      ],
      "execution_count": 15,
      "outputs": [
        {
          "output_type": "stream",
          "name": "stdout",
          "text": [
            "Drive already mounted at /content/drive; to attempt to forcibly remount, call drive.mount(\"/content/drive\", force_remount=True).\n"
          ]
        }
      ]
    },
    {
      "cell_type": "code",
      "metadata": {
        "id": "1YgUxOytjd-y"
      },
      "source": [
        "archive = zipfile.ZipFile('/content/drive/MyDrive/Colab Notebooks/rsna-pneumonia-detection-challenge.zip') \n",
        "archive.extractall()\n",
        "archive.close();"
      ],
      "execution_count": 16,
      "outputs": []
    },
    {
      "cell_type": "code",
      "metadata": {
        "id": "CY0hd3Osinu6"
      },
      "source": [
        "covid_chestxray = './covid-chestxray-dataset/metadata.csv'\n",
        "\n",
        "kaggle_csvname = 'stage_2_detailed_class_info.csv'  #normal\n",
        "kaggle_csvname2 = 'stage_2_train_labels.csv' \n",
        "kaggle_imgpath = 'stage_2_train_images'\n",
        "\n",
        "related_views=[\"AP\",\"PA\",\"AP Supine\",\"AP semi erect\"] \n",
        "filename_label = {'normal': [], 'pneumonia': [], 'COVID-19': []}\n",
        "\n",
        "mapping = dict() \n",
        "mapping['COVID-19'] = 'COVID-19'\n",
        "mapping['COVID-19, ARDS'] = 'COVID-19'\n",
        "mapping['Pneumocystis'] = 'pneumonia'\n",
        "mapping['SARS'] = 'pneumonia'\n",
        "mapping['Streptococcus'] = 'pneumonia'\n",
        "mapping['Normal'] = 'normal'"
      ],
      "execution_count": 17,
      "outputs": []
    },
    {
      "cell_type": "code",
      "metadata": {
        "id": "TbSP6g3ekj6Z"
      },
      "source": [
        "#grouping of classes\n",
        "covid_csv = pd.read_csv(covid_chestxray) #covid cases append\n",
        "for index, row in covid_csv.iterrows():\n",
        "    if row['finding'] in mapping:\n",
        "        if row['view'] in related_views:\n",
        "            if row['filename'] not in filename_label[mapping[row['finding']]]:\n",
        "                filename_label[mapping[row['finding']]].append(row['filename']) \n",
        "\n",
        "\n",
        "csv_normal = pd.read_csv(kaggle_csvname)\n",
        "csv_pneu = pd.read_csv(kaggle_csvname2)\n",
        "all_names=[]\n",
        "for index, row in csv_normal.iterrows(): #normal cases append\n",
        "    if row['class'] == 'Normal':\n",
        "        if row['patientId'] not in all_names:\n",
        "            all_names.append(row['patientId'])\n",
        "            new_name=row['patientId']+'.dcm'\n",
        "            if new_name not in filename_label['normal']:\n",
        "                filename_label['normal'].append(new_name) \n",
        "        \n",
        "for index, row in csv_pneu.iterrows(): #pnemonia cases append\n",
        "    if int(row['Target']) == 1:\n",
        "        if row['patientId'] not in all_names:\n",
        "            all_names.append(row['patientId'])\n",
        "            new_name=row['patientId']+'.dcm'\n",
        "            if new_name not in filename_label['pneumonia']:\n",
        "                filename_label['pneumonia'].append(new_name) \n"
      ],
      "execution_count": 18,
      "outputs": []
    },
    {
      "cell_type": "code",
      "metadata": {
        "id": "6UazllNTk2Zx"
      },
      "source": [
        "with open('All.csv',newline='', mode='w') as csvfile:\n",
        "     csv_writer = csv.writer(csvfile, delimiter=',', quotechar='\"', quoting=csv.QUOTE_MINIMAL)\n",
        "     csv_writer.writerow(['filename','class'])\n",
        "     for key in filename_label:\n",
        "         for row in filename_label[key]:\n",
        "             if '.dcm' in row:\n",
        "                 new_row=row[:-4]+'.png'\n",
        "                 csv_writer.writerow([new_row,key])\n",
        "             else:\n",
        "                 csv_writer.writerow([row,key])     "
      ],
      "execution_count": 19,
      "outputs": []
    },
    {
      "cell_type": "code",
      "metadata": {
        "id": "LZWBHOoMo48X"
      },
      "source": [
        "try:\n",
        "  os.mkdir('Our_data_fold')\n",
        "  os.mkdir('Our_data_fold/fold1')\n",
        "  os.mkdir('Our_data_fold/fold2')\n",
        "  os.mkdir('Our_data_fold/fold3')\n",
        "  os.mkdir('Our_data_fold/fold4')\n",
        "  os.mkdir('Our_data_fold/fold5')\n",
        "except:\n",
        "  pass"
      ],
      "execution_count": 20,
      "outputs": []
    },
    {
      "cell_type": "code",
      "metadata": {
        "id": "7QX9VGIwo4_E"
      },
      "source": [
        ""
      ],
      "execution_count": 20,
      "outputs": []
    },
    {
      "cell_type": "code",
      "metadata": {
        "id": "enLJXGvKovgn",
        "colab": {
          "base_uri": "https://localhost:8080/"
        },
        "outputId": "e39b7bd5-f7a3-4586-8fb3-c3ca6aa8327b"
      },
      "source": [
        "for fo in range(1,6):\n",
        "\n",
        "    #appending all covid files\n",
        "    related_views=[\"AP\",\"PA\",\"AP Supine\",\"AP semi erect\"]\n",
        "    filename_label = {'normal': [], 'pneumonia': [], 'COVID-19': []}\n",
        "    patients_id={'normal': [], 'pneumonia': [], 'COVID-19': []}\n",
        "    covid_csv = pd.read_csv(covid_chestxray)\n",
        "    for index, row in covid_csv.iterrows():\n",
        "        if row['finding'] in mapping:\n",
        "            if row['view'] in related_views:\n",
        "                if row['filename'] not in filename_label[mapping[row['finding']]]:\n",
        "                    filename_label[mapping[row['finding']]].append(row['filename'])\n",
        "                    patients_id[mapping[row['finding']]].append(row['patientid'])\n",
        "\n",
        "\n",
        "    ultimate_train={'normal': [], 'pneumonia': [], 'COVID-19': []} \n",
        "    ultimated_test=[] \n",
        "    ultimate_test_covid  = globals()\n",
        "    ultimate_test_pneumonia  = globals()\n",
        "    # prepare for testing\n",
        "    for index, row in covid_csv.iterrows(): \n",
        "        if  str(row['patientid']) in ultimate_test_covid or str(row['patientid']) in ultimate_test_pneumonia:\n",
        "            if row['view'] in related_views:\n",
        "                if row['filename'] not in ultimated_test:\n",
        "                    ultimated_test.append(row['filename'])\n",
        "    # train\n",
        "    for flp in filename_label['pneumonia']:\n",
        "        if flp not in ultimated_test:\n",
        "            ultimate_train['pneumonia'].append(flp)\n",
        "    for flp in filename_label['COVID-19']:\n",
        "        if flp not in ultimated_test:\n",
        "            ultimate_train['COVID-19'].append(flp)\n",
        "        \n",
        "    csv_normal = pd.read_csv(kaggle_csvname)\n",
        "    csv_pneu =   pd.read_csv(kaggle_csvname2)\n",
        "    patients = {'normal': [], 'pneumonia': []}\n",
        "    all_names=[]\n",
        "    all_data=[]\n",
        "    for index, row in csv_normal.iterrows(): \n",
        "        if row['class'] == 'Normal':\n",
        "            if row['patientId'] not in all_names:\n",
        "                all_names.append(row['patientId'])\n",
        "                all_data.append([row['patientId'],'normal'])\n",
        "                patients['normal'].append(row['patientId'])\n",
        "                new_name=row['patientId']+'.dcm'\n",
        "                if new_name not in filename_label['normal']:\n",
        "                    filename_label['normal'].append(new_name)\n",
        "    for index, row in csv_pneu.iterrows(): \n",
        "        if int(row['Target']) == 1:\n",
        "            if row['patientId'] not in all_names:\n",
        "                all_names.append(row['patientId'])\n",
        "                all_data.append([row['patientId'],'pneumonia'])\n",
        "                patients['pneumonia'].append(row['patientId'])\n",
        "                new_name=row['patientId']+'.dcm'\n",
        "                if new_name not in filename_label['pneumonia']:\n",
        "                    filename_label['pneumonia'].append(new_name)\n",
        "                             \n",
        "    temp_all_train={'normal': [], 'pneumonia': [], 'COVID-19': []}\n",
        "    for key in filename_label:\n",
        "        for fl in filename_label[key]:\n",
        "            if fl not in ultimated_test:\n",
        "                if fl not in ultimate_train[key]:\n",
        "                    temp_all_train[key].append(fl)    \n",
        "                    \n",
        "    for i in range(10):\n",
        "        for key in temp_all_train:\n",
        "            random.shuffle(temp_all_train[key])  \n",
        "    for i in range(1,9): \n",
        "        globals()['train{}'.format(i)]={'normal': [], 'pneumonia': ultimate_train['pneumonia'].copy(), 'COVID-19': ultimate_train['COVID-19'].copy()}\n",
        "        globals()['train{}'.format(i)]['normal'].extend(temp_all_train['normal'][250*i:(250*i)+250])\n",
        "        globals()['train{}'.format(i)]['pneumonia'].extend(temp_all_train['pneumonia'][200*i:(200*i)+200])\n",
        "\n",
        "#balancing\n",
        "    for i in range(1,9): \n",
        "        with open('Our_data_fold/fold{}/train{}.csv'.format(fo,i),newline='', mode='w') as csvfile:\n",
        "             all_rows=[]\n",
        "             csv_writer = csv.writer(csvfile, delimiter=',', quotechar='\"', quoting=csv.QUOTE_MINIMAL)\n",
        "             csv_writer.writerow(['filename','class'])\n",
        "             for key in globals()['train{}'.format(i)]:\n",
        "                 for row in globals()['train{}'.format(i)][key]:\n",
        "                     if '.dcm' in row:\n",
        "                         new_row=row[:-4]+'.png'\n",
        "                         all_rows.append([new_row,key])\n",
        "                     else:\n",
        "                         if '.png ' in row:\n",
        "                             all_rows.append([row[:-1],key])\n",
        "                         else:\n",
        "                            all_rows.append([row,key])\n",
        "             for j in range(10):\n",
        "                random.shuffle(all_rows) \n",
        "             for arow in all_rows:\n",
        "                csv_writer.writerow(arow)\n",
        "    print(\"exported\")"
      ],
      "execution_count": 21,
      "outputs": [
        {
          "output_type": "stream",
          "name": "stdout",
          "text": [
            "exported\n",
            "exported\n",
            "exported\n",
            "exported\n",
            "exported\n"
          ]
        }
      ]
    },
    {
      "cell_type": "code",
      "metadata": {
        "id": "5pe7ejg5t25f"
      },
      "source": [
        ""
      ],
      "execution_count": 22,
      "outputs": []
    }
  ]
}